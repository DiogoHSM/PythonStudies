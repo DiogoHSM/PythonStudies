{
 "cells": [
  {
   "cell_type": "code",
   "execution_count": 1,
   "metadata": {},
   "outputs": [
    {
     "name": "stdout",
     "output_type": "stream",
     "text": [
      "0\n"
     ]
    }
   ],
   "source": [
    "import statistics\n",
    "\n",
    "numbers = [0,0,2,3,1,2,4,5,6,8,0,0,7,0,1,2,1,1,5,3,1,0,7,3,0,0,2,3,4,5,6,7,8,9,1,1,2,2,3]\n",
    "mode = statistics.mode(numbers)\n",
    "\n",
    "print(mode)\n"
   ]
  },
  {
   "cell_type": "code",
   "execution_count": 2,
   "metadata": {},
   "outputs": [
    {
     "name": "stdout",
     "output_type": "stream",
     "text": [
      "Mean: 2.948717948717949\n",
      "Median: 2\n"
     ]
    }
   ],
   "source": [
    "\n",
    "\n",
    "mean = statistics.mean(numbers)\n",
    "median = statistics.median(numbers)\n",
    "\n",
    "print(\"Mean:\", mean)\n",
    "print(\"Median:\", median)\n"
   ]
  },
  {
   "cell_type": "code",
   "execution_count": 5,
   "metadata": {},
   "outputs": [
    {
     "name": "stdout",
     "output_type": "stream",
     "text": [
      "Variance: 7.155195681511471\n",
      "Interquartile Range: [1.0, 2.0, 5.0]\n"
     ]
    }
   ],
   "source": [
    "variance = statistics.variance(numbers)\n",
    "interquartile_range = statistics.quantiles(numbers)\n",
    "\n",
    "print(\"Variance:\", variance)\n",
    "print(\"Interquartile Range:\", interquartile_range)\n"
   ]
  },
  {
   "cell_type": "code",
   "execution_count": 14,
   "metadata": {},
   "outputs": [
    {
     "name": "stdout",
     "output_type": "stream",
     "text": [
      "Pearson coefficient: 0.9693761589718941\n",
      "Spearman coefficient: 1.0\n"
     ]
    }
   ],
   "source": [
    "import numpy as np\n",
    "from scipy.stats import pearsonr, spearmanr\n",
    "\n",
    "# Generate x values\n",
    "x = np.linspace(1, 100, 1000)\n",
    "\n",
    "# Calculate y values based on x^2\n",
    "y = x ** 2\n",
    "\n",
    "# Calculate Pearson coefficient\n",
    "pearson_coefficient, _ = pearsonr(x, y)\n",
    "\n",
    "# Calculate Spearman coefficient\n",
    "spearman_coefficient, _ = spearmanr(x, y)\n",
    "\n",
    "print(\"Pearson coefficient:\", pearson_coefficient)\n",
    "print(\"Spearman coefficient:\", spearman_coefficient)\n"
   ]
  }
 ],
 "metadata": {
  "kernelspec": {
   "display_name": "base",
   "language": "python",
   "name": "python3"
  },
  "language_info": {
   "codemirror_mode": {
    "name": "ipython",
    "version": 3
   },
   "file_extension": ".py",
   "mimetype": "text/x-python",
   "name": "python",
   "nbconvert_exporter": "python",
   "pygments_lexer": "ipython3",
   "version": "3.11.5"
  }
 },
 "nbformat": 4,
 "nbformat_minor": 2
}
