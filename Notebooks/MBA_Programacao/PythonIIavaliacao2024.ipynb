{
 "cells": [
  {
   "cell_type": "markdown",
   "metadata": {
    "id": "6funjacwNy-q"
   },
   "source": [
    "# <span style=\"color:blue\"> MBA em Ciência de Dados</span>\n",
    "# <span style=\"color:blue\">Programação para Ciência de Dados</span>\n",
    "\n",
    "## <span style=\"color:blue\">Avaliação Python Parte II</span>\n",
    "**Material Produzido por Luis Gustavo Nonato**<br>\n",
    "**Cemeai - ICMC/USP São Carlos**"
   ]
  },
  {
   "cell_type": "markdown",
   "metadata": {
    "id": "cutfp5OANy-y"
   },
   "source": [
    "<font color='red'> As respostas devem ser fornecidas no Moodle. O notebook é apenas para a implementação dos códigos que fornecerão as respostas</font>"
   ]
  },
  {
   "cell_type": "markdown",
   "metadata": {
    "id": "fXbLVfzhNy-3"
   },
   "source": [
    "### Exercício 1) \n",
    "Considere a lista `mat` abaixo, onde cada elemento é também uma lista. Cada lista correspondendo a um elemento de `mat` tem como primeiro elemento o cargo, segundo elemento o nível de formação e terceiro elemento o nome de um funcionário.\n",
    "\n",
    "Utilize comprehension para gerar uma lista chamada `nomes` que contenha o nome dos funcionários que tem cargo de supervisor. \n",
    "Dentre as opções abaixo, qual implementa a solução corretamente?\n",
    "\n",
    "a) nomes = [s for s in mat if s == 'supervisor']<br>\n",
    "b) nomes = [s[1] for s in mat if s[2] == 'supervisor']<br>\n",
    "c) nomes = [s[2] for s in mat if s[0] == 'supervisor' ]<br>\n",
    "c) nomes = [s[0] for s in mat if s != 'supervisor']"
   ]
  },
  {
   "cell_type": "code",
   "execution_count": 1,
   "metadata": {
    "colab": {
     "base_uri": "https://localhost:8080/"
    },
    "executionInfo": {
     "elapsed": 8,
     "status": "ok",
     "timestamp": 1642619854749,
     "user": {
      "displayName": "Luis Gustavo Nonato",
      "photoUrl": "https://lh3.googleusercontent.com/a/default-user=s64",
      "userId": "16109025348268293164"
     },
     "user_tz": 180
    },
    "id": "WgBIqbVINy-4",
    "outputId": "7e8123a4-cccc-4a11-86e1-282a6b313aa2"
   },
   "outputs": [],
   "source": [
    "mat = [\n",
    "    ['supervisor', 'tecnico', 'Carlos'],\n",
    "    ['assistente', 'tecnico', 'Lucas'],\n",
    "    ['gerente', 'doutor', 'Jessica'],\n",
    "    ['especialista', 'mestre', 'Alberto'],\n",
    "    ['gerente', 'graduado', 'Ricardo'],\n",
    "    ['CEO', 'graduado', 'Fernando'],\n",
    "    ['gerente', 'mestre', 'Jose'],\n",
    "    ['CEO', 'graduado', 'Joao'],\n",
    "    ['supervisor', 'graduado', 'Fernanda'],\n",
    "    ['gerente', 'doutor', 'Marcos'],\n",
    "    ['assistente', 'tecnico', 'Luis']\n",
    "]"
   ]
  },
  {
   "cell_type": "code",
   "execution_count": 3,
   "metadata": {},
   "outputs": [
    {
     "name": "stdout",
     "output_type": "stream",
     "text": [
      "['Carlos', 'Fernanda']\n"
     ]
    }
   ],
   "source": [
    "nomes = [s[2] for s in mat if s[0] == 'supervisor']\n",
    "print(nomes)"
   ]
  },
  {
   "cell_type": "markdown",
   "metadata": {
    "id": "qNf3LdUGNy-7"
   },
   "source": [
    "### Exercício 2)\n",
    "Ainda utilizando a lista `mat` do exercício anterior, crie um dicionário chamado `dc` onde cada elemento é da forma `formacao:[cargo1,cargo2,...]`, ou seja, as chaves são as _formações_ e os valores uma lista com os cargos assumidos pelas pessoas que tem a correspondente formação. As listas associadas a cada chave não devem conter valores repetidos. A formação com a maior lista de cargos é:\n",
    "\n",
    "a) graduado<br>\n",
    "b) doutor<br>\n",
    "c) tecnico<br>\n",
    "d) mestre"
   ]
  },
  {
   "cell_type": "code",
   "execution_count": 5,
   "metadata": {
    "id": "kMvAVc18Ny-9",
    "outputId": "3d56e916-2bc7-41ac-b649-d29d8e857a8c"
   },
   "outputs": [
    {
     "name": "stdout",
     "output_type": "stream",
     "text": [
      "{'tecnico': ['assistente', 'supervisor'], 'doutor': ['gerente'], 'mestre': ['gerente', 'especialista'], 'graduado': ['gerente', 'CEO', 'supervisor']}\n"
     ]
    }
   ],
   "source": [
    "dc = {s[1]: list(set([x[0] for x in mat if x[1] == s[1]])) for s in mat}\n",
    "print(dc)"
   ]
  },
  {
   "cell_type": "markdown",
   "metadata": {
    "id": "xlNmh7NuNy--"
   },
   "source": [
    "### Exercício 3) \n",
    "A função `variacoes` descrita abaixo \n",
    "```python\n",
    "def variacoes(s):\n",
    "    dc = {______________}\n",
    "    return(dc)\n",
    "```\n",
    "recebe uma 'string' como parâmetro e gera um dicionário como resposta, onde as chaves do dicionário são todas as variações da string com um caracter removido, colocando a string original como valor associado a cada chave . Por exemplo:\n",
    "```python\n",
    "print(variacoes('casa'))\n",
    "```\n",
    "deve resultar em:\n",
    "```python\n",
    "{'asa': 'casa', 'csa': 'casa', 'caa': 'casa', 'cas': 'casa'}\n",
    "```\n",
    "\n",
    "Qual das alternativas abaixo completa corretamente a função?\n",
    "\n",
    "a) {s[0]+s[1] for s in range(len(s))}<br>\n",
    "b) {s[:i]+s[i+1:]:i for i in s}<br>\n",
    "c) {s[0:i]+s[i+1:]:s for i in len(s)}<br>\n",
    "d) {s[0:i]+s[i+1:]:s for i in range(len(s))}"
   ]
  },
  {
   "cell_type": "code",
   "execution_count": 9,
   "metadata": {
    "colab": {
     "base_uri": "https://localhost:8080/"
    },
    "executionInfo": {
     "elapsed": 257,
     "status": "ok",
     "timestamp": 1642621375349,
     "user": {
      "displayName": "Luis Gustavo Nonato",
      "photoUrl": "https://lh3.googleusercontent.com/a/default-user=s64",
      "userId": "16109025348268293164"
     },
     "user_tz": 180
    },
    "id": "QFfqmQAWNy-_",
    "outputId": "41676620-f09e-4b99-f468-0d148cd17e28"
   },
   "outputs": [
    {
     "name": "stdout",
     "output_type": "stream",
     "text": [
      "{'asa': 'casa', 'csa': 'casa', 'caa': 'casa', 'cas': 'casa'}\n"
     ]
    }
   ],
   "source": [
    "def variacoes(s):\n",
    "    dc = {s[0:i]+s[i+1:]:s for i in range(len(s))}\n",
    "    return(dc)\n",
    "\n",
    "print(variacoes('casa'))"
   ]
  },
  {
   "cell_type": "markdown",
   "metadata": {
    "id": "2C36zssaNy_B"
   },
   "source": [
    "### Exercício 4) \n",
    "O método <font color='blue'>sorted</font> assume como atributos uma sequência e um parâmetro `key` que pode ser uma função que será aplicada aos elementos da sequência a fim de ordená-los de acordo com os valores resultantes da função (veja lista de exercícios da aula).\n",
    "\n",
    "Utilize uma função <font color='blue'>lambda</font> como parâmetro `key` no método <font color='blue'>sorted</font> para ordenar uma lista cujos elementos são numéricos, de modo que cada elemento seja ordenado como se tivesse o valor $x^2-x$, onde $x$ corresponde a cada elemento da lista.\n",
    "\n",
    "O resultado da ordenação quando aplicada à lista \n",
    "```python\n",
    "[0.11, -0.11, 0.4, 0.11, -0.57, -0.05, 0.85, -0.27, -0.07, -0.78, 0.13, 0.36]\n",
    "```\n",
    "será:\n",
    "\n",
    "a) [-0.78, -0.57, -0.27, -0.11, -0.07, -0.05, 0.11, 0.11, 0.4, 0.85, 0.13, 0.36]<br>\n",
    "b) [0.11, 0.11, -0.27, -0.78, -0.11, -0.07, 0.13, 0.36, -0.05,  -0.57, 0.4, 0.85]<br>\n",
    "c) [0.4, 0.36, 0.85, 0.13, 0.11, 0.11, -0.05, -0.07, -0.11, -0.27, -0.57, -0.78]<br>\n",
    "d) [-0.05, 0.11, -0.07, 0.13, -0.11, 0.11, 0.36, -0.27, 0.4, -0.57, -0.78, 0.85]"
   ]
  },
  {
   "cell_type": "code",
   "execution_count": 11,
   "metadata": {},
   "outputs": [
    {
     "name": "stdout",
     "output_type": "stream",
     "text": [
      "[0.4, 0.36, 0.85, 0.13, 0.11, 0.11, -0.05, -0.07, -0.11, -0.27, -0.57, -0.78]\n"
     ]
    }
   ],
   "source": [
    "l = [0.11, -0.11, 0.4, 0.11, -0.57, -0.05, 0.85, -0.27, -0.07, -0.78, 0.13, 0.36]\n",
    "sorted_l = sorted(l, key=lambda x: x**2 - x)\n",
    "print(sorted_l)\n"
   ]
  },
  {
   "cell_type": "markdown",
   "metadata": {
    "id": "S2H0JLg1Ny_E"
   },
   "source": [
    "### Exercício 5) \n",
    "Construa uma função `concatena_dicionarios` que recebe dois dicionários como atributos e concatena ambos em um único dicionário contendo as chaves e os valores dos dois dicionários. Se a chave se repete em ambos, mantenha o maior valor associado a chave . Por exemplo, dados os dicionários:\n",
    "```python\n",
    "dc1 = {1: 5479, 5: 1479, 7: 1549, 9: 1547}\n",
    "dc2 = {5: 2647, 2: 9647, 1: 9247}\n",
    "```\n",
    "a função deve resultar no dicionário\n",
    "```python\n",
    "{1: 9247, 7: 1549, 5: 2647, 9: 1547, 2: 9647}\n",
    "```\n",
    "Considerando os dicionários abaixo como entrada para a função:\n",
    "```python\n",
    "dc1 = {4: 10153, 18: 41118, 2: 101515, 15: 354, 7: 4145, 8: 10316, 3: 121016, 11: 15122, 12: 16158, 10: 4188, 14: 15318, 5: 11711, 16: 181412}\n",
    "\n",
    "dc2 = {19: 16619, 4: 11310, 18: 171112, 11: 171817, 12: 171911, 6: 4195, 5: 171910, 3: 10310, 16: 191916, 10: 111619, 17: 51016}\n",
    "```\n",
    "O par `chave:valor` com o maior valor no dicionário concatenado será:\n",
    "\n",
    "a) 12: 171911<br>\n",
    "b) 5: 171910<br>\n",
    "c) 11: 171817<br>\n",
    "d) 16: 191916\n",
    "\n",
    "**Dica:** Crie uma lista como as tuplas `(chave,valor)` do dicionário concatenado e ordene os elementos da lista com base no `valor`."
   ]
  },
  {
   "cell_type": "code",
   "execution_count": 14,
   "metadata": {
    "colab": {
     "base_uri": "https://localhost:8080/"
    },
    "executionInfo": {
     "elapsed": 257,
     "status": "ok",
     "timestamp": 1642624082568,
     "user": {
      "displayName": "Luis Gustavo Nonato",
      "photoUrl": "https://lh3.googleusercontent.com/a/default-user=s64",
      "userId": "16109025348268293164"
     },
     "user_tz": 180
    },
    "id": "-isO4J3VNy_F",
    "outputId": "6b7f5312-f507-49e5-bc90-6829b521681f"
   },
   "outputs": [
    {
     "name": "stdout",
     "output_type": "stream",
     "text": [
      "{16: 191916, 12: 171911, 5: 171910, 11: 171817, 18: 171112, 3: 121016, 10: 111619, 2: 101515, 17: 51016, 19: 16619, 14: 15318, 4: 11310, 8: 10316, 6: 4195, 7: 4145, 15: 354}\n"
     ]
    }
   ],
   "source": [
    "def concatena_dicionarios(dc1, dc2):\n",
    "    concatenated_dict = {}\n",
    "    \n",
    "    \n",
    "    for key, value in dc1.items():\n",
    "        concatenated_dict[key] = value\n",
    "    \n",
    "    \n",
    "    for key, value in dc2.items():\n",
    "        if key in concatenated_dict:\n",
    "            concatenated_dict[key] = max(concatenated_dict[key], value)\n",
    "        else:\n",
    "            concatenated_dict[key] = value\n",
    "    \n",
    "    return concatenated_dict\n",
    "dc1 = {4: 10153, 18: 41118, 2: 101515, 15: 354, 7: 4145, 8: 10316, 3: 121016, 11: 15122, 12: 16158, 10: 4188, 14: 15318, 5: 11711, 16: 181412}\n",
    "dc2 = {19: 16619, 4: 11310, 18: 171112, 11: 171817, 12: 171911, 6: 4195, 5: 171910, 3: 10310, 16: 191916, 10: 111619, 17: 51016}\n",
    "\n",
    "result = concatena_dicionarios(dc1, dc2)\n",
    "result_sorted = dict(sorted(result.items(), key=lambda x: x[1], reverse=True))\n",
    "print(result_sorted)\n"
   ]
  }
 ],
 "metadata": {
  "colab": {
   "collapsed_sections": [],
   "name": "Python II avaliacao - respostas.ipynb",
   "provenance": []
  },
  "kernelspec": {
   "display_name": "Python 3",
   "language": "python",
   "name": "python3"
  },
  "language_info": {
   "codemirror_mode": {
    "name": "ipython",
    "version": 3
   },
   "file_extension": ".py",
   "mimetype": "text/x-python",
   "name": "python",
   "nbconvert_exporter": "python",
   "pygments_lexer": "ipython3",
   "version": "3.11.5"
  }
 },
 "nbformat": 4,
 "nbformat_minor": 1
}
