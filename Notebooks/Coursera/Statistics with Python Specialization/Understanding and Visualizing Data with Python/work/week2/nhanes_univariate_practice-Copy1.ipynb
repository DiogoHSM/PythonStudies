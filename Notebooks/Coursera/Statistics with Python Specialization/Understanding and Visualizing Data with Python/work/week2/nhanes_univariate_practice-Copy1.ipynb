{
 "cells": [
  {
   "cell_type": "markdown",
   "metadata": {},
   "source": [
    "# Practice notebook for univariate analysis using NHANES data\n",
    "\n",
    "This notebook will give you the opportunity to perform some univariate analyses on your own using the NHANES data.  These analyses are similar to what was done in the week 2 NHANES case study notebook.\n",
    "\n",
    "You can enter your code into the cells that say \"enter your code here\", and you can type responses to the questions into the cells that say \"Type Markdown and Latex\".\n",
    "\n",
    "Note that most of the code that you will need to write below is very similar to code that appears in the case study notebook.  You will need to edit code from that notebook in small ways to adapt it to the prompts below.\n",
    "\n",
    "To get started, we will use the same module imports and read the data in the same way as we did in the case study:"
   ]
  },
  {
   "cell_type": "code",
   "execution_count": 1,
   "metadata": {},
   "outputs": [],
   "source": [
    "import matplotlib.pyplot as plt\n",
    "import seaborn as sns\n",
    "import pandas as pd\n",
    "import statsmodels.api as sm\n",
    "import numpy as np\n",
    "\n",
    "da = pd.read_csv(\"nhanes_2015_2016.csv\")"
   ]
  },
  {
   "cell_type": "markdown",
   "metadata": {},
   "source": [
    "## Question 1\n",
    "\n",
    "Relabel the marital status variable [DMDMARTL](https://wwwn.cdc.gov/Nchs/Nhanes/2015-2016/DEMO_I.htm#DMDMARTL) to have brief but informative character labels.  Then construct a frequency table of these values for all people, then for women only and for men only.  Then construct these three frequency tables using only people whose age is between 30 and 40."
   ]
  },
  {
   "cell_type": "code",
   "execution_count": 2,
   "metadata": {},
   "outputs": [
    {
     "name": "stdout",
     "output_type": "stream",
     "text": [
      "All subjects:\n",
      "DMDMARTLx\n",
      "Married         0.507855\n",
      "NeverMarried    0.183412\n",
      "Divorced        0.105773\n",
      "Cohabitating    0.096273\n",
      "Widowed         0.072342\n",
      "Separated       0.033979\n",
      "Refused         0.000365\n",
      "Name: count, dtype: float64\n",
      "\n",
      "RIAGENDR= 1\n",
      "DMDMARTLx\n",
      "Married         0.562881\n",
      "NeverMarried    0.184451\n",
      "Cohabitating    0.100991\n",
      "Divorced        0.087271\n",
      "Widowed         0.038110\n",
      "Separated       0.025915\n",
      "Refused         0.000381\n",
      "Name: count, dtype: float64\n",
      "\n",
      "RIAGENDR= 2\n",
      "DMDMARTLx\n",
      "Married         0.457193\n",
      "NeverMarried    0.182456\n",
      "Divorced        0.122807\n",
      "Widowed         0.103860\n",
      "Cohabitating    0.091930\n",
      "Separated       0.041404\n",
      "Refused         0.000351\n",
      "Name: count, dtype: float64\n",
      "\n",
      "RIAGENDR= 1  30 <= RIDAGEYR <= 40\n",
      "DMDMARTLx\n",
      "Married         0.556680\n",
      "NeverMarried    0.204453\n",
      "Cohabitating    0.157895\n",
      "Divorced        0.048583\n",
      "Separated       0.024291\n",
      "Widowed         0.006073\n",
      "Refused         0.002024\n",
      "Name: count, dtype: float64\n",
      "\n",
      "RIAGENDR= 2  30 <= RIDAGEYR <= 40\n",
      "DMDMARTLx\n",
      "Married         0.535714\n",
      "NeverMarried    0.218045\n",
      "Cohabitating    0.122180\n",
      "Divorced        0.086466\n",
      "Separated       0.033835\n",
      "Widowed         0.003759\n",
      "Name: count, dtype: float64\n"
     ]
    }
   ],
   "source": [
    "r = {1: \"Married\", 2: \"Widowed\", 3: \"Divorced\", 4: \"Separated\", 5: \"NeverMarried\", 6: \"Cohabitating\", 77: \"Refused\", 99: \"Unknown\"}\n",
    "da[\"DMDMARTLx\"] = da[\"DMDMARTL\"].replace(r)\n",
    "\n",
    "print(\"All subjects:\")\n",
    "x = da[\"DMDMARTLx\"].value_counts()\n",
    "print(x / x.sum())\n",
    "\n",
    "for ky,db in da.groupby(\"RIAGENDR\"):\n",
    "    print(\"\\nRIAGENDR=\", ky)\n",
    "    x = db[\"DMDMARTLx\"].value_counts()\n",
    "    print(x / x.sum())\n",
    "    \n",
    "da3040 = da.query('RIDAGEYR >= 30 & RIDAGEYR <= 40')\n",
    "for ky,db in da3040.groupby(\"RIAGENDR\"):\n",
    "    print(\"\\nRIAGENDR=\", ky, \" 30 <= RIDAGEYR <= 40\")\n",
    "    x = db[\"DMDMARTLx\"].value_counts()\n",
    "    print(x / x.sum())"
   ]
  },
  {
   "cell_type": "markdown",
   "metadata": {},
   "source": [
    "__Q1a.__ Briefly comment on some of the differences that you observe between the distribution of marital status between women and men, for people of all ages."
   ]
  },
  {
   "cell_type": "raw",
   "metadata": {},
   "source": [
    "Compared to men, women have a lower probability of being currently married, a greater probability of being divorced, and a much greater probability of being widowed compared to men."
   ]
  },
  {
   "cell_type": "markdown",
   "metadata": {},
   "source": [
    "__Q1b.__ Briefly comment on the differences that you observe between the distribution of marital status states for women between the overall population, and for women between the ages of 30 and 40."
   ]
  },
  {
   "cell_type": "raw",
   "metadata": {},
   "source": [
    "Women between the ages of 30 and 40 have a much lower probability of being widowed, a lower probability of being divorced, and a greater probability of cohabitating, compared to women of all ages."
   ]
  },
  {
   "cell_type": "markdown",
   "metadata": {},
   "source": [
    "__Q1c.__ Repeat part b for the men."
   ]
  },
  {
   "cell_type": "raw",
   "metadata": {},
   "source": [
    "Men between the ages of 30 and 40 have a greater probability of cohabitating, a lower probability of being divorced, and a much lower probability of being widowed, compared to men of all ages."
   ]
  },
  {
   "cell_type": "markdown",
   "metadata": {},
   "source": [
    "## Question 2\n",
    "\n",
    "Restricting to the female population, stratify the subjects into age bands no wider than ten years, and construct the distribution of marital status within each age band.  Within each age band, present the distribution in terms of proportions that must sum to 1."
   ]
  },
  {
   "cell_type": "code",
   "execution_count": 3,
   "metadata": {},
   "outputs": [
    {
     "data": {
      "text/plain": [
       "RIAGENDRx\n",
       "Female    2976\n",
       "Male      2759\n",
       "Name: count, dtype: int64"
      ]
     },
     "execution_count": 3,
     "metadata": {},
     "output_type": "execute_result"
    }
   ],
   "source": [
    "# insert your code here\n",
    "da[\"RIAGENDRx\"] = da.RIAGENDR.replace({1: \"Male\", 2: \"Female\"})\n",
    "da.RIAGENDRx.value_counts()"
   ]
  },
  {
   "cell_type": "code",
   "execution_count": 4,
   "metadata": {},
   "outputs": [
    {
     "data": {
      "text/plain": [
       "DMDMARTLx\n",
       "Married         0.535339\n",
       "NeverMarried    0.175426\n",
       "Cohabitating    0.096049\n",
       "Divorced        0.083001\n",
       "Widowed         0.036245\n",
       "Separated       0.024647\n",
       "Refused         0.000362\n",
       "Name: count, dtype: float64"
      ]
     },
     "execution_count": 4,
     "metadata": {},
     "output_type": "execute_result"
    }
   ],
   "source": [
    "da[da['RIAGENDRx'] == \"Male\"].DMDMARTLx.value_counts()/da[da['RIAGENDRx'] == \"Male\"].shape[0]"
   ]
  },
  {
   "cell_type": "code",
   "execution_count": 5,
   "metadata": {
    "scrolled": true
   },
   "outputs": [
    {
     "name": "stdout",
     "output_type": "stream",
     "text": [
      "RIAGENDRx     Female   Male\n",
      "DMDMARTLx                  \n",
      "Cohabitating  0.0919 0.1010\n",
      "Divorced      0.1228 0.0873\n",
      "Married       0.4572 0.5629\n",
      "NeverMarried  0.1825 0.1845\n",
      "Refused       0.0004 0.0004\n",
      "Separated     0.0414 0.0259\n",
      "Widowed       0.1039 0.0381\n"
     ]
    }
   ],
   "source": [
    "dx = da.groupby([\"DMDMARTLx\"])[\"RIAGENDRx\"].value_counts().unstack()\n",
    "dx = dx.apply(lambda x: x/x.sum(), axis=0)\n",
    "print(dx.to_string(float_format=\"%.4f\")) "
   ]
  },
  {
   "cell_type": "code",
   "execution_count": 15,
   "metadata": {},
   "outputs": [
    {
     "name": "stderr",
     "output_type": "stream",
     "text": [
      "/private/tmp/PKInstallSandbox.3tMTS1/tmp/ipykernel_31202/1017842713.py:2: SettingWithCopyWarning: \n",
      "A value is trying to be set on a copy of a slice from a DataFrame.\n",
      "Try using .loc[row_indexer,col_indexer] = value instead\n",
      "\n",
      "See the caveats in the documentation: https://pandas.pydata.org/pandas-docs/stable/user_guide/indexing.html#returning-a-view-versus-a-copy\n",
      "  da_fem.loc[:,\"agegrp\"] = pd.cut(da_fem.RIDAGEYR, [10, 20, 30, 40, 50, 60, 70, 80])\n"
     ]
    },
    {
     "data": {
      "text/html": [
       "<style type=\"text/css\">\n",
       "#T_e3e19_row0_col0, #T_e3e19_row0_col3 {\n",
       "  background-color: #f3eeef;\n",
       "  color: #000000;\n",
       "}\n",
       "#T_e3e19_row0_col1, #T_e3e19_row0_col2, #T_e3e19_row0_col4, #T_e3e19_row0_col5, #T_e3e19_row0_col6, #T_e3e19_row1_col4, #T_e3e19_row1_col6, #T_e3e19_row2_col4, #T_e3e19_row2_col6, #T_e3e19_row3_col4, #T_e3e19_row5_col4, #T_e3e19_row6_col0, #T_e3e19_row6_col3, #T_e3e19_row6_col4 {\n",
       "  background-color: #f3f0f0;\n",
       "  color: #000000;\n",
       "}\n",
       "#T_e3e19_row1_col0, #T_e3e19_row1_col3, #T_e3e19_row3_col2, #T_e3e19_row3_col5, #T_e3e19_row4_col4, #T_e3e19_row5_col1, #T_e3e19_row6_col6 {\n",
       "  background-color: #ffc0cb;\n",
       "  color: #000000;\n",
       "}\n",
       "#T_e3e19_row1_col1 {\n",
       "  background-color: #f4eaec;\n",
       "  color: #000000;\n",
       "}\n",
       "#T_e3e19_row1_col2 {\n",
       "  background-color: #f9d6dc;\n",
       "  color: #000000;\n",
       "}\n",
       "#T_e3e19_row1_col5, #T_e3e19_row3_col0 {\n",
       "  background-color: #f7e0e4;\n",
       "  color: #000000;\n",
       "}\n",
       "#T_e3e19_row2_col0, #T_e3e19_row2_col5 {\n",
       "  background-color: #f9d7dd;\n",
       "  color: #000000;\n",
       "}\n",
       "#T_e3e19_row2_col1 {\n",
       "  background-color: #f9d8dd;\n",
       "  color: #000000;\n",
       "}\n",
       "#T_e3e19_row2_col2, #T_e3e19_row4_col2 {\n",
       "  background-color: #fec5cf;\n",
       "  color: #000000;\n",
       "}\n",
       "#T_e3e19_row2_col3 {\n",
       "  background-color: #f7dee3;\n",
       "  color: #000000;\n",
       "}\n",
       "#T_e3e19_row3_col1, #T_e3e19_row4_col5 {\n",
       "  background-color: #fdc9d2;\n",
       "  color: #000000;\n",
       "}\n",
       "#T_e3e19_row3_col3 {\n",
       "  background-color: #f5e6e9;\n",
       "  color: #000000;\n",
       "}\n",
       "#T_e3e19_row3_col6 {\n",
       "  background-color: #f4edee;\n",
       "  color: #000000;\n",
       "}\n",
       "#T_e3e19_row4_col0 {\n",
       "  background-color: #f6e2e6;\n",
       "  color: #000000;\n",
       "}\n",
       "#T_e3e19_row4_col1 {\n",
       "  background-color: #ffc1cc;\n",
       "  color: #000000;\n",
       "}\n",
       "#T_e3e19_row4_col3 {\n",
       "  background-color: #f4ebed;\n",
       "  color: #000000;\n",
       "}\n",
       "#T_e3e19_row4_col6, #T_e3e19_row5_col0 {\n",
       "  background-color: #f5e9eb;\n",
       "  color: #000000;\n",
       "}\n",
       "#T_e3e19_row5_col2 {\n",
       "  background-color: #fccdd5;\n",
       "  color: #000000;\n",
       "}\n",
       "#T_e3e19_row5_col3 {\n",
       "  background-color: #f4eced;\n",
       "  color: #000000;\n",
       "}\n",
       "#T_e3e19_row5_col5 {\n",
       "  background-color: #fbd0d7;\n",
       "  color: #000000;\n",
       "}\n",
       "#T_e3e19_row5_col6 {\n",
       "  background-color: #f7dfe3;\n",
       "  color: #000000;\n",
       "}\n",
       "#T_e3e19_row6_col1 {\n",
       "  background-color: #fbcfd6;\n",
       "  color: #000000;\n",
       "}\n",
       "#T_e3e19_row6_col2 {\n",
       "  background-color: #f8dae0;\n",
       "  color: #000000;\n",
       "}\n",
       "#T_e3e19_row6_col5 {\n",
       "  background-color: #f6e4e7;\n",
       "  color: #000000;\n",
       "}\n",
       "</style>\n",
       "<table id=\"T_e3e19\">\n",
       "  <thead>\n",
       "    <tr>\n",
       "      <th class=\"index_name level0\" >DMDMARTLx</th>\n",
       "      <th id=\"T_e3e19_level0_col0\" class=\"col_heading level0 col0\" >Cohabitating</th>\n",
       "      <th id=\"T_e3e19_level0_col1\" class=\"col_heading level0 col1\" >Divorced</th>\n",
       "      <th id=\"T_e3e19_level0_col2\" class=\"col_heading level0 col2\" >Married</th>\n",
       "      <th id=\"T_e3e19_level0_col3\" class=\"col_heading level0 col3\" >NeverMarried</th>\n",
       "      <th id=\"T_e3e19_level0_col4\" class=\"col_heading level0 col4\" >Refused</th>\n",
       "      <th id=\"T_e3e19_level0_col5\" class=\"col_heading level0 col5\" >Separated</th>\n",
       "      <th id=\"T_e3e19_level0_col6\" class=\"col_heading level0 col6\" >Widowed</th>\n",
       "    </tr>\n",
       "    <tr>\n",
       "      <th class=\"index_name level0\" >agegrp</th>\n",
       "      <th class=\"blank col0\" >&nbsp;</th>\n",
       "      <th class=\"blank col1\" >&nbsp;</th>\n",
       "      <th class=\"blank col2\" >&nbsp;</th>\n",
       "      <th class=\"blank col3\" >&nbsp;</th>\n",
       "      <th class=\"blank col4\" >&nbsp;</th>\n",
       "      <th class=\"blank col5\" >&nbsp;</th>\n",
       "      <th class=\"blank col6\" >&nbsp;</th>\n",
       "    </tr>\n",
       "  </thead>\n",
       "  <tbody>\n",
       "    <tr>\n",
       "      <th id=\"T_e3e19_level0_row0\" class=\"row_heading level0 row0\" >(10, 20]</th>\n",
       "      <td id=\"T_e3e19_row0_col0\" class=\"data row0 col0\" >0.030534</td>\n",
       "      <td id=\"T_e3e19_row0_col1\" class=\"data row0 col1\" >0.000000</td>\n",
       "      <td id=\"T_e3e19_row0_col2\" class=\"data row0 col2\" >0.000767</td>\n",
       "      <td id=\"T_e3e19_row0_col3\" class=\"data row0 col3\" >0.057692</td>\n",
       "      <td id=\"T_e3e19_row0_col4\" class=\"data row0 col4\" >0.000000</td>\n",
       "      <td id=\"T_e3e19_row0_col5\" class=\"data row0 col5\" >0.000000</td>\n",
       "      <td id=\"T_e3e19_row0_col6\" class=\"data row0 col6\" >0.000000</td>\n",
       "    </tr>\n",
       "    <tr>\n",
       "      <th id=\"T_e3e19_level0_row1\" class=\"row_heading level0 row1\" >(20, 30]</th>\n",
       "      <td id=\"T_e3e19_row1_col0\" class=\"data row1 col0\" >0.404580</td>\n",
       "      <td id=\"T_e3e19_row1_col1\" class=\"data row1 col1\" >0.031429</td>\n",
       "      <td id=\"T_e3e19_row1_col2\" class=\"data row1 col2\" >0.120491</td>\n",
       "      <td id=\"T_e3e19_row1_col3\" class=\"data row1 col3\" >0.440385</td>\n",
       "      <td id=\"T_e3e19_row1_col4\" class=\"data row1 col4\" >0.000000</td>\n",
       "      <td id=\"T_e3e19_row1_col5\" class=\"data row1 col5\" >0.093220</td>\n",
       "      <td id=\"T_e3e19_row1_col6\" class=\"data row1 col6\" >0.000000</td>\n",
       "    </tr>\n",
       "    <tr>\n",
       "      <th id=\"T_e3e19_level0_row2\" class=\"row_heading level0 row2\" >(30, 40]</th>\n",
       "      <td id=\"T_e3e19_row2_col0\" class=\"data row2 col0\" >0.217557</td>\n",
       "      <td id=\"T_e3e19_row2_col1\" class=\"data row2 col1\" >0.122857</td>\n",
       "      <td id=\"T_e3e19_row2_col2\" class=\"data row2 col2\" >0.198005</td>\n",
       "      <td id=\"T_e3e19_row2_col3\" class=\"data row2 col3\" >0.186538</td>\n",
       "      <td id=\"T_e3e19_row2_col4\" class=\"data row2 col4\" >0.000000</td>\n",
       "      <td id=\"T_e3e19_row2_col5\" class=\"data row2 col5\" >0.144068</td>\n",
       "      <td id=\"T_e3e19_row2_col6\" class=\"data row2 col6\" >0.006757</td>\n",
       "    </tr>\n",
       "    <tr>\n",
       "      <th id=\"T_e3e19_level0_row3\" class=\"row_heading level0 row3\" >(40, 50]</th>\n",
       "      <td id=\"T_e3e19_row3_col0\" class=\"data row3 col0\" >0.141221</td>\n",
       "      <td id=\"T_e3e19_row3_col1\" class=\"data row3 col1\" >0.197143</td>\n",
       "      <td id=\"T_e3e19_row3_col2\" class=\"data row3 col2\" >0.221028</td>\n",
       "      <td id=\"T_e3e19_row3_col3\" class=\"data row3 col3\" >0.121154</td>\n",
       "      <td id=\"T_e3e19_row3_col4\" class=\"data row3 col4\" >0.000000</td>\n",
       "      <td id=\"T_e3e19_row3_col5\" class=\"data row3 col5\" >0.279661</td>\n",
       "      <td id=\"T_e3e19_row3_col6\" class=\"data row3 col6\" >0.040541</td>\n",
       "    </tr>\n",
       "    <tr>\n",
       "      <th id=\"T_e3e19_level0_row4\" class=\"row_heading level0 row4\" >(50, 60]</th>\n",
       "      <td id=\"T_e3e19_row4_col0\" class=\"data row4 col0\" >0.122137</td>\n",
       "      <td id=\"T_e3e19_row4_col1\" class=\"data row4 col1\" >0.237143</td>\n",
       "      <td id=\"T_e3e19_row4_col2\" class=\"data row4 col2\" >0.197237</td>\n",
       "      <td id=\"T_e3e19_row4_col3\" class=\"data row4 col3\" >0.080769</td>\n",
       "      <td id=\"T_e3e19_row4_col4\" class=\"data row4 col4\" >1.000000</td>\n",
       "      <td id=\"T_e3e19_row4_col5\" class=\"data row4 col5\" >0.228814</td>\n",
       "      <td id=\"T_e3e19_row4_col6\" class=\"data row4 col6\" >0.094595</td>\n",
       "    </tr>\n",
       "    <tr>\n",
       "      <th id=\"T_e3e19_level0_row5\" class=\"row_heading level0 row5\" >(60, 70]</th>\n",
       "      <td id=\"T_e3e19_row5_col0\" class=\"data row5 col0\" >0.072519</td>\n",
       "      <td id=\"T_e3e19_row5_col1\" class=\"data row5 col1\" >0.242857</td>\n",
       "      <td id=\"T_e3e19_row5_col2\" class=\"data row5 col2\" >0.162701</td>\n",
       "      <td id=\"T_e3e19_row5_col3\" class=\"data row5 col3\" >0.073077</td>\n",
       "      <td id=\"T_e3e19_row5_col4\" class=\"data row5 col4\" >0.000000</td>\n",
       "      <td id=\"T_e3e19_row5_col5\" class=\"data row5 col5\" >0.186441</td>\n",
       "      <td id=\"T_e3e19_row5_col6\" class=\"data row5 col6\" >0.219595</td>\n",
       "    </tr>\n",
       "    <tr>\n",
       "      <th id=\"T_e3e19_level0_row6\" class=\"row_heading level0 row6\" >(70, 80]</th>\n",
       "      <td id=\"T_e3e19_row6_col0\" class=\"data row6 col0\" >0.011450</td>\n",
       "      <td id=\"T_e3e19_row6_col1\" class=\"data row6 col1\" >0.168571</td>\n",
       "      <td id=\"T_e3e19_row6_col2\" class=\"data row6 col2\" >0.099770</td>\n",
       "      <td id=\"T_e3e19_row6_col3\" class=\"data row6 col3\" >0.040385</td>\n",
       "      <td id=\"T_e3e19_row6_col4\" class=\"data row6 col4\" >0.000000</td>\n",
       "      <td id=\"T_e3e19_row6_col5\" class=\"data row6 col5\" >0.067797</td>\n",
       "      <td id=\"T_e3e19_row6_col6\" class=\"data row6 col6\" >0.638514</td>\n",
       "    </tr>\n",
       "  </tbody>\n",
       "</table>\n"
      ],
      "text/plain": [
       "<pandas.io.formats.style.Styler at 0x126221990>"
      ]
     },
     "execution_count": 15,
     "metadata": {},
     "output_type": "execute_result"
    }
   ],
   "source": [
    "da_fem = da[da[\"RIAGENDRx\"] == \"Female\"]\n",
    "da_fem.loc[:,\"agegrp\"] = pd.cut(da_fem.RIDAGEYR, [10, 20, 30, 40, 50, 60, 70, 80])\n",
    "dx = da_fem.groupby([\"agegrp\"])[\"DMDMARTLx\"].value_counts().unstack()\n",
    "dx = dx.apply(lambda x: x/x.sum(), axis=0)\n",
    "cm = sns.light_palette(\"pink\", as_cmap=True)\n",
    "dx.style.background_gradient(cmap=cm)"
   ]
  },
  {
   "cell_type": "markdown",
   "metadata": {},
   "source": [
    "__Q2a.__ Comment on the trends that you see in this series of marginal distributions."
   ]
  },
  {
   "cell_type": "markdown",
   "metadata": {},
   "source": []
  },
  {
   "cell_type": "markdown",
   "metadata": {},
   "source": [
    "__Q2b.__ Repeat the analysis for males."
   ]
  },
  {
   "cell_type": "code",
   "execution_count": 16,
   "metadata": {},
   "outputs": [
    {
     "name": "stderr",
     "output_type": "stream",
     "text": [
      "/private/tmp/PKInstallSandbox.3tMTS1/tmp/ipykernel_31202/210963362.py:3: SettingWithCopyWarning: \n",
      "A value is trying to be set on a copy of a slice from a DataFrame.\n",
      "Try using .loc[row_indexer,col_indexer] = value instead\n",
      "\n",
      "See the caveats in the documentation: https://pandas.pydata.org/pandas-docs/stable/user_guide/indexing.html#returning-a-view-versus-a-copy\n",
      "  da_m.loc[:,\"agegrp\"] = pd.cut(da_m.RIDAGEYR, [10, 20, 30, 40, 50, 60, 70, 80])\n"
     ]
    },
    {
     "data": {
      "text/html": [
       "<style type=\"text/css\">\n",
       "#T_8d909_row0_col0, #T_8d909_row0_col1, #T_8d909_row0_col2, #T_8d909_row0_col4, #T_8d909_row0_col5, #T_8d909_row0_col6, #T_8d909_row1_col4, #T_8d909_row3_col4, #T_8d909_row4_col4, #T_8d909_row5_col4, #T_8d909_row6_col3, #T_8d909_row6_col4 {\n",
       "  background-color: #f0f0f3;\n",
       "  color: #000000;\n",
       "}\n",
       "#T_8d909_row0_col3 {\n",
       "  background-color: #d3d3f4;\n",
       "  color: #000000;\n",
       "}\n",
       "#T_8d909_row1_col0, #T_8d909_row1_col3, #T_8d909_row2_col4, #T_8d909_row4_col1, #T_8d909_row4_col2, #T_8d909_row5_col5, #T_8d909_row6_col1, #T_8d909_row6_col5, #T_8d909_row6_col6 {\n",
       "  background-color: #0000ff;\n",
       "  color: #f1f1f1;\n",
       "}\n",
       "#T_8d909_row1_col1 {\n",
       "  background-color: #e9e9f3;\n",
       "  color: #000000;\n",
       "}\n",
       "#T_8d909_row1_col2, #T_8d909_row4_col0 {\n",
       "  background-color: #9d9df7;\n",
       "  color: #f1f1f1;\n",
       "}\n",
       "#T_8d909_row1_col5 {\n",
       "  background-color: #7878f9;\n",
       "  color: #f1f1f1;\n",
       "}\n",
       "#T_8d909_row1_col6, #T_8d909_row2_col6, #T_8d909_row3_col6 {\n",
       "  background-color: #eaeaf3;\n",
       "  color: #000000;\n",
       "}\n",
       "#T_8d909_row2_col0 {\n",
       "  background-color: #3636fc;\n",
       "  color: #f1f1f1;\n",
       "}\n",
       "#T_8d909_row2_col1 {\n",
       "  background-color: #8c8cf8;\n",
       "  color: #f1f1f1;\n",
       "}\n",
       "#T_8d909_row2_col2 {\n",
       "  background-color: #1e1efd;\n",
       "  color: #f1f1f1;\n",
       "}\n",
       "#T_8d909_row2_col3 {\n",
       "  background-color: #9898f7;\n",
       "  color: #f1f1f1;\n",
       "}\n",
       "#T_8d909_row2_col5 {\n",
       "  background-color: #2222fd;\n",
       "  color: #f1f1f1;\n",
       "}\n",
       "#T_8d909_row3_col0 {\n",
       "  background-color: #9f9ff7;\n",
       "  color: #f1f1f1;\n",
       "}\n",
       "#T_8d909_row3_col1 {\n",
       "  background-color: #6161fa;\n",
       "  color: #f1f1f1;\n",
       "}\n",
       "#T_8d909_row3_col2 {\n",
       "  background-color: #0b0bfe;\n",
       "  color: #f1f1f1;\n",
       "}\n",
       "#T_8d909_row3_col3 {\n",
       "  background-color: #cfcff4;\n",
       "  color: #000000;\n",
       "}\n",
       "#T_8d909_row3_col5 {\n",
       "  background-color: #3333fc;\n",
       "  color: #f1f1f1;\n",
       "}\n",
       "#T_8d909_row4_col3 {\n",
       "  background-color: #c7c7f5;\n",
       "  color: #000000;\n",
       "}\n",
       "#T_8d909_row4_col5 {\n",
       "  background-color: #4545fb;\n",
       "  color: #f1f1f1;\n",
       "}\n",
       "#T_8d909_row4_col6 {\n",
       "  background-color: #cdcdf5;\n",
       "  color: #000000;\n",
       "}\n",
       "#T_8d909_row5_col0 {\n",
       "  background-color: #bebef5;\n",
       "  color: #000000;\n",
       "}\n",
       "#T_8d909_row5_col1 {\n",
       "  background-color: #0808ff;\n",
       "  color: #f1f1f1;\n",
       "}\n",
       "#T_8d909_row5_col2 {\n",
       "  background-color: #0404ff;\n",
       "  color: #f1f1f1;\n",
       "}\n",
       "#T_8d909_row5_col3 {\n",
       "  background-color: #d0d0f4;\n",
       "  color: #000000;\n",
       "}\n",
       "#T_8d909_row5_col6 {\n",
       "  background-color: #b4b4f6;\n",
       "  color: #000000;\n",
       "}\n",
       "#T_8d909_row6_col0 {\n",
       "  background-color: #e0e0f4;\n",
       "  color: #000000;\n",
       "}\n",
       "#T_8d909_row6_col2 {\n",
       "  background-color: #2929fd;\n",
       "  color: #f1f1f1;\n",
       "}\n",
       "</style>\n",
       "<table id=\"T_8d909\">\n",
       "  <thead>\n",
       "    <tr>\n",
       "      <th class=\"index_name level0\" >DMDMARTLx</th>\n",
       "      <th id=\"T_8d909_level0_col0\" class=\"col_heading level0 col0\" >Cohabitating</th>\n",
       "      <th id=\"T_8d909_level0_col1\" class=\"col_heading level0 col1\" >Divorced</th>\n",
       "      <th id=\"T_8d909_level0_col2\" class=\"col_heading level0 col2\" >Married</th>\n",
       "      <th id=\"T_8d909_level0_col3\" class=\"col_heading level0 col3\" >NeverMarried</th>\n",
       "      <th id=\"T_8d909_level0_col4\" class=\"col_heading level0 col4\" >Refused</th>\n",
       "      <th id=\"T_8d909_level0_col5\" class=\"col_heading level0 col5\" >Separated</th>\n",
       "      <th id=\"T_8d909_level0_col6\" class=\"col_heading level0 col6\" >Widowed</th>\n",
       "    </tr>\n",
       "    <tr>\n",
       "      <th class=\"index_name level0\" >agegrp</th>\n",
       "      <th class=\"blank col0\" >&nbsp;</th>\n",
       "      <th class=\"blank col1\" >&nbsp;</th>\n",
       "      <th class=\"blank col2\" >&nbsp;</th>\n",
       "      <th class=\"blank col3\" >&nbsp;</th>\n",
       "      <th class=\"blank col4\" >&nbsp;</th>\n",
       "      <th class=\"blank col5\" >&nbsp;</th>\n",
       "      <th class=\"blank col6\" >&nbsp;</th>\n",
       "    </tr>\n",
       "  </thead>\n",
       "  <tbody>\n",
       "    <tr>\n",
       "      <th id=\"T_8d909_level0_row0\" class=\"row_heading level0 row0\" >(10, 20]</th>\n",
       "      <td id=\"T_8d909_row0_col0\" class=\"data row0 col0\" >0.011321</td>\n",
       "      <td id=\"T_8d909_row0_col1\" class=\"data row0 col1\" >0.000000</td>\n",
       "      <td id=\"T_8d909_row0_col2\" class=\"data row0 col2\" >0.000677</td>\n",
       "      <td id=\"T_8d909_row0_col3\" class=\"data row0 col3\" >0.074380</td>\n",
       "      <td id=\"T_8d909_row0_col4\" class=\"data row0 col4\" >0.000000</td>\n",
       "      <td id=\"T_8d909_row0_col5\" class=\"data row0 col5\" >0.000000</td>\n",
       "      <td id=\"T_8d909_row0_col6\" class=\"data row0 col6\" >0.000000</td>\n",
       "    </tr>\n",
       "    <tr>\n",
       "      <th id=\"T_8d909_level0_row1\" class=\"row_heading level0 row1\" >(20, 30]</th>\n",
       "      <td id=\"T_8d909_row1_col0\" class=\"data row1 col0\" >0.347170</td>\n",
       "      <td id=\"T_8d909_row1_col1\" class=\"data row1 col1\" >0.008734</td>\n",
       "      <td id=\"T_8d909_row1_col2\" class=\"data row1 col2\" >0.069736</td>\n",
       "      <td id=\"T_8d909_row1_col3\" class=\"data row1 col3\" >0.466942</td>\n",
       "      <td id=\"T_8d909_row1_col4\" class=\"data row1 col4\" >0.000000</td>\n",
       "      <td id=\"T_8d909_row1_col5\" class=\"data row1 col5\" >0.102941</td>\n",
       "      <td id=\"T_8d909_row1_col6\" class=\"data row1 col6\" >0.020000</td>\n",
       "    </tr>\n",
       "    <tr>\n",
       "      <th id=\"T_8d909_level0_row2\" class=\"row_heading level0 row2\" >(30, 40]</th>\n",
       "      <td id=\"T_8d909_row2_col0\" class=\"data row2 col0\" >0.271698</td>\n",
       "      <td id=\"T_8d909_row2_col1\" class=\"data row2 col1\" >0.104803</td>\n",
       "      <td id=\"T_8d909_row2_col2\" class=\"data row2 col2\" >0.174678</td>\n",
       "      <td id=\"T_8d909_row2_col3\" class=\"data row2 col3\" >0.183884</td>\n",
       "      <td id=\"T_8d909_row2_col4\" class=\"data row2 col4\" >1.000000</td>\n",
       "      <td id=\"T_8d909_row2_col5\" class=\"data row2 col5\" >0.176471</td>\n",
       "      <td id=\"T_8d909_row2_col6\" class=\"data row2 col6\" >0.020000</td>\n",
       "    </tr>\n",
       "    <tr>\n",
       "      <th id=\"T_8d909_level0_row3\" class=\"row_heading level0 row3\" >(40, 50]</th>\n",
       "      <td id=\"T_8d909_row3_col0\" class=\"data row3 col0\" >0.124528</td>\n",
       "      <td id=\"T_8d909_row3_col1\" class=\"data row3 col1\" >0.148472</td>\n",
       "      <td id=\"T_8d909_row3_col2\" class=\"data row3 col2\" >0.190928</td>\n",
       "      <td id=\"T_8d909_row3_col3\" class=\"data row3 col3\" >0.080579</td>\n",
       "      <td id=\"T_8d909_row3_col4\" class=\"data row3 col4\" >0.000000</td>\n",
       "      <td id=\"T_8d909_row3_col5\" class=\"data row3 col5\" >0.161765</td>\n",
       "      <td id=\"T_8d909_row3_col6\" class=\"data row3 col6\" >0.020000</td>\n",
       "    </tr>\n",
       "    <tr>\n",
       "      <th id=\"T_8d909_level0_row4\" class=\"row_heading level0 row4\" >(50, 60]</th>\n",
       "      <td id=\"T_8d909_row4_col0\" class=\"data row4 col0\" >0.128302</td>\n",
       "      <td id=\"T_8d909_row4_col1\" class=\"data row4 col1\" >0.248908</td>\n",
       "      <td id=\"T_8d909_row4_col2\" class=\"data row4 col2\" >0.200406</td>\n",
       "      <td id=\"T_8d909_row4_col3\" class=\"data row4 col3\" >0.097107</td>\n",
       "      <td id=\"T_8d909_row4_col4\" class=\"data row4 col4\" >0.000000</td>\n",
       "      <td id=\"T_8d909_row4_col5\" class=\"data row4 col5\" >0.147059</td>\n",
       "      <td id=\"T_8d909_row4_col6\" class=\"data row4 col6\" >0.100000</td>\n",
       "    </tr>\n",
       "    <tr>\n",
       "      <th id=\"T_8d909_level0_row5\" class=\"row_heading level0 row5\" >(60, 70]</th>\n",
       "      <td id=\"T_8d909_row5_col0\" class=\"data row5 col0\" >0.083019</td>\n",
       "      <td id=\"T_8d909_row5_col1\" class=\"data row5 col1\" >0.240175</td>\n",
       "      <td id=\"T_8d909_row5_col2\" class=\"data row5 col2\" >0.197021</td>\n",
       "      <td id=\"T_8d909_row5_col3\" class=\"data row5 col3\" >0.078512</td>\n",
       "      <td id=\"T_8d909_row5_col4\" class=\"data row5 col4\" >0.000000</td>\n",
       "      <td id=\"T_8d909_row5_col5\" class=\"data row5 col5\" >0.205882</td>\n",
       "      <td id=\"T_8d909_row5_col6\" class=\"data row5 col6\" >0.170000</td>\n",
       "    </tr>\n",
       "    <tr>\n",
       "      <th id=\"T_8d909_level0_row6\" class=\"row_heading level0 row6\" >(70, 80]</th>\n",
       "      <td id=\"T_8d909_row6_col0\" class=\"data row6 col0\" >0.033962</td>\n",
       "      <td id=\"T_8d909_row6_col1\" class=\"data row6 col1\" >0.248908</td>\n",
       "      <td id=\"T_8d909_row6_col2\" class=\"data row6 col2\" >0.166554</td>\n",
       "      <td id=\"T_8d909_row6_col3\" class=\"data row6 col3\" >0.018595</td>\n",
       "      <td id=\"T_8d909_row6_col4\" class=\"data row6 col4\" >0.000000</td>\n",
       "      <td id=\"T_8d909_row6_col5\" class=\"data row6 col5\" >0.205882</td>\n",
       "      <td id=\"T_8d909_row6_col6\" class=\"data row6 col6\" >0.670000</td>\n",
       "    </tr>\n",
       "  </tbody>\n",
       "</table>\n"
      ],
      "text/plain": [
       "<pandas.io.formats.style.Styler at 0x12b895cd0>"
      ]
     },
     "execution_count": 16,
     "metadata": {},
     "output_type": "execute_result"
    }
   ],
   "source": [
    "# insert your code here\n",
    "da_m = da[da[\"RIAGENDRx\"] == \"Male\"]\n",
    "da_m.loc[:,\"agegrp\"] = pd.cut(da_m.RIDAGEYR, [10, 20, 30, 40, 50, 60, 70, 80])\n",
    "dx = da_m.groupby([\"agegrp\"])[\"DMDMARTLx\"].value_counts().unstack()\n",
    "dx = dx.apply(lambda x: x/x.sum(), axis=0)\n",
    "cm = sns.light_palette(\"blue\", as_cmap=True)\n",
    "dx.style.background_gradient(cmap=cm)"
   ]
  },
  {
   "cell_type": "markdown",
   "metadata": {},
   "source": [
    "__Q2c.__ Comment on any notable differences that you see when comparing these results between females and for males."
   ]
  },
  {
   "cell_type": "raw",
   "metadata": {},
   "source": []
  },
  {
   "cell_type": "markdown",
   "metadata": {},
   "source": [
    "## Question 3\n",
    "\n",
    "Construct a histogram of the distribution of heights using the BMXHT variable in the NHANES sample."
   ]
  },
  {
   "cell_type": "code",
   "execution_count": 19,
   "metadata": {},
   "outputs": [
    {
     "data": {
      "text/plain": [
       "count    5673.000000\n",
       "mean      166.142834\n",
       "std        10.079264\n",
       "min       129.700000\n",
       "25%       158.700000\n",
       "50%       166.000000\n",
       "75%       173.500000\n",
       "max       202.700000\n",
       "Name: BMXHT, dtype: float64"
      ]
     },
     "execution_count": 19,
     "metadata": {},
     "output_type": "execute_result"
    }
   ],
   "source": [
    "# insert your code here\n",
    "da[\"BMXHT\"].describe()"
   ]
  },
  {
   "cell_type": "markdown",
   "metadata": {},
   "source": [
    "__Q3a.__ Use the `bins` argument to [histplot](https://seaborn.pydata.org/generated/seaborn.histplot.html#seaborn.histplot) to produce histograms with different numbers of bins.  Assess whether the default value for this argument gives a meaningful result, and comment on what happens as the number of bins grows excessively large or excessively small. "
   ]
  },
  {
   "cell_type": "raw",
   "metadata": {},
   "source": []
  },
  {
   "cell_type": "markdown",
   "metadata": {},
   "source": [
    "__Q3b.__ Make separate histograms for the heights of women and men, then make a side-by-side boxplot showing the heights of women and men."
   ]
  },
  {
   "cell_type": "code",
   "execution_count": 3,
   "metadata": {},
   "outputs": [],
   "source": [
    "# insert your code here"
   ]
  },
  {
   "cell_type": "markdown",
   "metadata": {},
   "source": [
    "__Q3c.__ Comment on what features, if any are not represented clearly in the boxplots, and what features, if any, are easier to see in the boxplots than in the histograms."
   ]
  },
  {
   "cell_type": "raw",
   "metadata": {},
   "source": []
  },
  {
   "cell_type": "markdown",
   "metadata": {},
   "source": [
    "## Question 4\n",
    "\n",
    "Make a boxplot showing the distribution of within-subject differences between the first and second systolic blood pressure measurents ([BPXSY1](https://wwwn.cdc.gov/Nchs/Nhanes/2015-2016/BPX_I.htm#BPXSY1) and [BPXSY2](https://wwwn.cdc.gov/Nchs/Nhanes/2015-2016/BPX_I.htm#BPXSY2))."
   ]
  },
  {
   "cell_type": "code",
   "execution_count": null,
   "metadata": {},
   "outputs": [],
   "source": [
    "# insert your code here"
   ]
  },
  {
   "cell_type": "markdown",
   "metadata": {},
   "source": [
    "__Q4a.__ What proportion of the subjects have a lower SBP on the second reading compared to the first?"
   ]
  },
  {
   "cell_type": "code",
   "execution_count": null,
   "metadata": {},
   "outputs": [],
   "source": [
    "# insert your code here"
   ]
  },
  {
   "cell_type": "markdown",
   "metadata": {},
   "source": [
    "__Q4b.__ Make side-by-side boxplots of the two systolic blood pressure variables."
   ]
  },
  {
   "cell_type": "code",
   "execution_count": 4,
   "metadata": {},
   "outputs": [],
   "source": [
    "# insert your code here"
   ]
  },
  {
   "cell_type": "markdown",
   "metadata": {},
   "source": [
    "__Q4c.__ Comment on the variation within either the first or second systolic blood pressure measurements, and the variation in the within-subject differences between the first and second systolic blood pressure measurements."
   ]
  },
  {
   "cell_type": "raw",
   "metadata": {},
   "source": []
  },
  {
   "cell_type": "markdown",
   "metadata": {},
   "source": [
    "## Question 5\n",
    "\n",
    "Construct a frequency table of household sizes for people within each educational attainment category (the relevant variable is [DMDEDUC2](https://wwwn.cdc.gov/Nchs/Nhanes/2015-2016/DEMO_I.htm#DMDEDUC2)).  Convert the frequencies to proportions."
   ]
  },
  {
   "cell_type": "code",
   "execution_count": null,
   "metadata": {},
   "outputs": [],
   "source": [
    "# insert your code here"
   ]
  },
  {
   "cell_type": "markdown",
   "metadata": {},
   "source": [
    "__Q5a.__ Comment on any major differences among the distributions."
   ]
  },
  {
   "cell_type": "raw",
   "metadata": {},
   "source": []
  },
  {
   "cell_type": "markdown",
   "metadata": {},
   "source": [
    "__Q5b.__ Restrict the sample to people between 30 and 40 years of age.  Then calculate the median household size for women and men within each level of educational attainment."
   ]
  },
  {
   "cell_type": "code",
   "execution_count": 7,
   "metadata": {},
   "outputs": [],
   "source": [
    "# insert your code here"
   ]
  },
  {
   "cell_type": "markdown",
   "metadata": {},
   "source": [
    "## Question 6\n",
    "\n",
    "The participants can be clustered into \"masked variance units\" (MVU) based on every combination of the variables [SDMVSTRA](https://wwwn.cdc.gov/Nchs/Nhanes/2015-2016/DEMO_I.htm#SDMVSTRA) and [SDMVPSU](https://wwwn.cdc.gov/Nchs/Nhanes/2015-2016/DEMO_I.htm#SDMVPSU).  Calculate the mean age ([RIDAGEYR](https://wwwn.cdc.gov/Nchs/Nhanes/2015-2016/DEMO_I.htm#RIDAGEYR)), height ([BMXHT](https://wwwn.cdc.gov/Nchs/Nhanes/2015-2016/BMX_I.htm#BMXHT)), and BMI ([BMXBMI](https://wwwn.cdc.gov/Nchs/Nhanes/2015-2016/BMX_I.htm#BMXBMI)) for each gender ([RIAGENDR](https://wwwn.cdc.gov/Nchs/Nhanes/2015-2016/DEMO_I.htm#RIAGENDR)), within each MVU, and report the ratio between the largest and smallest mean (e.g. for height) across the MVUs."
   ]
  },
  {
   "cell_type": "code",
   "execution_count": 1,
   "metadata": {},
   "outputs": [],
   "source": [
    "# insert your code here"
   ]
  },
  {
   "cell_type": "markdown",
   "metadata": {},
   "source": [
    "__Q6a.__ Comment on the extent to which mean age, height, and BMI vary among the MVUs."
   ]
  },
  {
   "cell_type": "raw",
   "metadata": {},
   "source": []
  },
  {
   "cell_type": "markdown",
   "metadata": {},
   "source": [
    "__Q6b.__ Calculate the inter-quartile range (IQR) for age, height, and BMI for each gender and each MVU.  Report the ratio between the largest and smalles IQR across the MVUs."
   ]
  },
  {
   "cell_type": "code",
   "execution_count": null,
   "metadata": {},
   "outputs": [],
   "source": [
    "# insert your code here"
   ]
  },
  {
   "cell_type": "markdown",
   "metadata": {},
   "source": [
    "__Q6c.__ Comment on the extent to which the IQR for age, height, and BMI vary among the MVUs."
   ]
  },
  {
   "cell_type": "raw",
   "metadata": {},
   "source": []
  }
 ],
 "metadata": {
  "kernelspec": {
   "display_name": "Python 3 (ipykernel)",
   "language": "python",
   "name": "python3"
  },
  "language_info": {
   "codemirror_mode": {
    "name": "ipython",
    "version": 3
   },
   "file_extension": ".py",
   "mimetype": "text/x-python",
   "name": "python",
   "nbconvert_exporter": "python",
   "pygments_lexer": "ipython3",
   "version": "3.11.5"
  }
 },
 "nbformat": 4,
 "nbformat_minor": 2
}
